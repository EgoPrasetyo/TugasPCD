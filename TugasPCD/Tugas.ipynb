{
 "cells": [
  {
   "cell_type": "code",
   "execution_count": 1,
   "metadata": {},
   "outputs": [],
   "source": [
    "import cv2\n",
    "import numpy as np\n",
    "from matplotlib import pyplot as plt\n",
    "test_image = cv2.imread('bu.jpg',0) #gambar dibaca grayscale\n",
    "#cv2.Sobel(original_image,ddepth,xorder,yorder,kernelsize)\n",
    "#tanda cv2.CV_64F adalah format grayscale 64 bit (true color)\n",
    "#sedangkan cv2.CV_8U adalah format binary atau 8 bit (hitam putih)\n",
    "sobelx = cv2.Sobel(test_image,cv2.CV_64F,1,0,ksize=3)\n",
    "sobely = cv2.Sobel(test_image,cv2.CV_64F,0,1,ksize=3)\n",
    "plt.figure()\n",
    "plt.subplot(1,2,1),plt.imshow(sobelx,cmap='gray'),plt.title('Penerapan Sobel X')\n",
    "plt.subplot(1,2,2),plt.imshow(sobely,cmap='gray'),plt.title('Penerapan Sobel Y')"
   ]
  },
  {
   "cell_type": "code",
   "execution_count": null,
   "metadata": {},
   "outputs": [],
   "source": []
  }
 ],
 "metadata": {
  "kernelspec": {
   "display_name": "Python 3",
   "language": "python",
   "name": "python3"
  },
  "language_info": {
   "codemirror_mode": {
    "name": "ipython",
    "version": 3
   },
   "file_extension": ".py",
   "mimetype": "text/x-python",
   "name": "python",
   "nbconvert_exporter": "python",
   "pygments_lexer": "ipython3",
   "version": "3.6.4"
  }
 },
 "nbformat": 4,
 "nbformat_minor": 2
}
